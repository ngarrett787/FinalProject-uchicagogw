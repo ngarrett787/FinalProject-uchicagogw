{
 "cells": [
  {
   "cell_type": "code",
   "execution_count": 4,
   "metadata": {},
   "outputs": [],
   "source": [
    "import numpy as np\n",
    "import scipy\n",
    "import matplotlib.pyplot as plt\n",
    "from ns import ns\n",
    "from scipy import stats\n",
    "from scipy.stats import multivariate_normal as normal\n",
    "from scipy.interpolate import interp1d\n",
    "from scipy.integrate import quad\n",
    "import csv\n",
    "import matplotlib\n",
    "from scipy.stats import gaussian_kde"
   ]
  },
  {
   "cell_type": "code",
   "execution_count": 5,
   "metadata": {},
   "outputs": [],
   "source": [
    "evidence_star_1 = [1.297726794928207548e-02,\n",
    "                    1.967922461100950204e-01,\n",
    "                    2.443291539362307460e-02,\n",
    "                    6.921790978621801538e-02,\n",
    "                    9.225332904196038852e-02,\n",
    "                    1.071474167169769731e-01,\n",
    "                    1.274901832979442318e-01,\n",
    "                    1.196720535559385318e-01,\n",
    "                    1.312994456476279659e-01,\n",
    "                    1.109749128682450681e-01,\n",
    "                    5.378609286445738130e-03,\n",
    "                    6.002585469606052521e-02,\n",
    "                    2.802744204266859399e-02,\n",
    "                    1.152040955879695544e-01,\n",
    "                    2.124760963472553665e-01,\n",
    "                    1.061295585342993536e-01]\n",
    "\n",
    "evidence_star_2 = [9.903882238640995817e-02,\n",
    "                    2.226323643115279971e-01,\n",
    "                    1.714399929999412264e-01,\n",
    "                    1.485385437316609769e-01,\n",
    "                    1.168057790701858417e-01,\n",
    "                    9.404631735682383864e-02,\n",
    "                    9.495470214561459177e-02,\n",
    "                    1.489558827037268662e-01,\n",
    "                    1.185972058737200241e-01,\n",
    "                    1.628718134164844622e-01,\n",
    "                    7.381354644457467640e-02,\n",
    "                    6.762206641083710890e-02,\n",
    "                    2.097093982131582324e-01,\n",
    "                    1.507420810539989442e-01,\n",
    "                    2.421182050110299855e-01,\n",
    "                    2.263511983833352004e-01]"
   ]
  },
  {
   "cell_type": "code",
   "execution_count": 13,
   "metadata": {},
   "outputs": [],
   "source": [
    "total_evidence = evidence_star_1 + evidence_star_2\n",
    "te = total_evidence"
   ]
  },
  {
   "cell_type": "code",
   "execution_count": 14,
   "metadata": {},
   "outputs": [
    {
     "name": "stdout",
     "output_type": "stream",
     "text": [
      "[-0.9320415408515264, 0.24878316991005178, -0.6572495215952686, -0.20500633220083692, -0.08024276570239906, -0.015243107880922067, 0.06025193281352706, 0.03276793081487249, 0.0730380797698293, -1.3145548153540443, -0.26688646010721456, -0.5976413495377481, 0.016243106128995856, 0.2820852661053488, -0.019388455007471852]\n"
     ]
    }
   ],
   "source": [
    "bf = [np.log10(te[0]/te[9]),np.log10(te[1]/te[9]),np.log10(te[2]/te[9]),np.log10(te[3]/te[9]),np.log10(te[4]/te[9]),np.log10(te[5]/te[9]),np.log10(te[6]/te[9]),np.log10(te[7]/te[9]),np.log10(te[8]/te[9]),np.log10(te[10]/te[9]),np.log10(te[11]/te[9]),np.log10(te[12]/te[9]),np.log10(te[13]/te[9]),np.log10(te[14]/te[9]),np.log10(te[15]/te[9])]\n",
    "print(bf)\n",
    "np.savetxt('bftot.dat',bf, delimiter=',')"
   ]
  },
  {
   "cell_type": "code",
   "execution_count": null,
   "metadata": {},
   "outputs": [],
   "source": []
  }
 ],
 "metadata": {
  "kernelspec": {
   "display_name": "Python 3",
   "language": "python",
   "name": "python3"
  },
  "language_info": {
   "codemirror_mode": {
    "name": "ipython",
    "version": 3
   },
   "file_extension": ".py",
   "mimetype": "text/x-python",
   "name": "python",
   "nbconvert_exporter": "python",
   "pygments_lexer": "ipython3",
   "version": "3.7.0"
  }
 },
 "nbformat": 4,
 "nbformat_minor": 2
}
